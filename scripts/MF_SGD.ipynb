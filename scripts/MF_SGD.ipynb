{
 "cells": [
  {
   "cell_type": "code",
   "execution_count": 1,
   "metadata": {},
   "outputs": [],
   "source": [
    "%matplotlib inline\n",
    "import numpy as np\n",
    "import scipy\n",
    "import scipy.io\n",
    "import scipy.sparse as sp\n",
    "import matplotlib.pyplot as plt\n",
    "%load_ext autoreload\n",
    "%autoreload 2"
   ]
  },
  {
   "cell_type": "markdown",
   "metadata": {},
   "source": [
    "### Load the data"
   ]
  },
  {
   "cell_type": "code",
   "execution_count": 2,
   "metadata": {},
   "outputs": [
    {
     "name": "stdout",
     "output_type": "stream",
     "text": [
      "number of users: 10000, number of items: 1000\n"
     ]
    }
   ],
   "source": [
    "from data_helpers import load_data, preprocess_data\n",
    "\n",
    "path_dataset = \"../data/data_train.csv\"\n",
    "ratings = load_data(path_dataset)"
   ]
  },
  {
   "cell_type": "markdown",
   "metadata": {},
   "source": [
    "### Plot the number of ratings per movie and user"
   ]
  },
  {
   "cell_type": "code",
   "execution_count": 3,
   "metadata": {},
   "outputs": [
    {
     "data": {
      "image/png": "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\n",
      "text/plain": [
       "<Figure size 504x288 with 2 Axes>"
      ]
     },
     "metadata": {
      "needs_background": "light"
     },
     "output_type": "display_data"
    },
    {
     "name": "stdout",
     "output_type": "stream",
     "text": [
      "min # of items per user = 3, min # of users per item = 8.\n"
     ]
    }
   ],
   "source": [
    "from plots import plot_raw_data\n",
    "\n",
    "num_items_per_user, num_users_per_item = plot_raw_data(ratings)\n",
    "\n",
    "print(\"min # of items per user = {}, min # of users per item = {}.\".format(min(num_items_per_user), min(num_users_per_item)))"
   ]
  },
  {
   "cell_type": "markdown",
   "metadata": {},
   "source": [
    "### Split the data into a train and test set"
   ]
  },
  {
   "cell_type": "code",
   "execution_count": 4,
   "metadata": {},
   "outputs": [],
   "source": [
    "def split_data(ratings, p_test=0.1):\n",
    "    \"\"\"split the ratings to training data and test data.\n",
    "    \"\"\"\n",
    "    # set seed\n",
    "    np.random.seed(988)  \n",
    "    \n",
    "    # init\n",
    "    num_rows, num_cols = ratings.shape\n",
    "    train = sp.lil_matrix((num_rows, num_cols))\n",
    "    test = sp.lil_matrix((num_rows, num_cols))\n",
    "    \n",
    "    print(\"the shape of original ratings. (# of row, # of col): {}\".format(ratings.shape))\n",
    "\n",
    "    nz_items, nz_users = ratings.nonzero() #return the indices of the elements that are non-zero\n",
    "    \n",
    "    # split the data\n",
    "    for user in set(nz_users): #pour chaque colonne(user), on choisit p_test(10%) de lignes(movies) pour le test set,  les lignes restantes étant pour le train set\n",
    "        # randomly select a subset of ratings\n",
    "        row, col = ratings[:, user].nonzero()\n",
    "        selects = np.random.choice(row, size=int(len(row) * p_test)) #generates a random sample from a given 1-D array\n",
    "        residual = list(set(row) - set(selects))\n",
    "\n",
    "        # add to train set\n",
    "        for res in residual:\n",
    "            train[res, user] = ratings[res, user]\n",
    "\n",
    "        # add to test set\n",
    "        for sel in selects:\n",
    "            test[sel, user] = ratings[sel, user]\n",
    "    \n",
    "    print(\"Total number of nonzero elements in original data:{v}\".format(v=ratings.nnz)) #number of stored values, including explicit zeros\n",
    "    print(\"Total number of nonzero elements in train data:{v}\".format(v=train.nnz))\n",
    "    print(\"Total number of nonzero elements in test data:{v}\".format(v=test.nnz))\n",
    "    return train, test"
   ]
  },
  {
   "cell_type": "code",
   "execution_count": 5,
   "metadata": {
    "scrolled": true
   },
   "outputs": [
    {
     "name": "stdout",
     "output_type": "stream",
     "text": [
      "the shape of original ratings. (# of row, # of col): (1000, 10000)\n",
      "Total number of nonzero elements in original data:1176952\n",
      "Total number of nonzero elements in train data:1068598\n",
      "Total number of nonzero elements in test data:108354\n"
     ]
    }
   ],
   "source": [
    "train, test = split_data(ratings, p_test=0.1)"
   ]
  },
  {
   "cell_type": "markdown",
   "metadata": {},
   "source": [
    "### Ratings that have to be predicted (items and users specified in sample_submission file)"
   ]
  },
  {
   "cell_type": "code",
   "execution_count": 6,
   "metadata": {
    "scrolled": true
   },
   "outputs": [],
   "source": [
    "from data_helpers import read_csv_sample\n",
    "\n",
    "INPUT_PATH = \"../data/sample_submission.csv\"\n",
    "ids = read_csv_sample(INPUT_PATH)"
   ]
  },
  {
   "cell_type": "markdown",
   "metadata": {},
   "source": [
    "### Learn the Matrix Factorization using the Stochastic Gradient Descent algorithm"
   ]
  },
  {
   "cell_type": "markdown",
   "metadata": {},
   "source": [
    "#### Initialize matrix factorization"
   ]
  },
  {
   "cell_type": "code",
   "execution_count": 7,
   "metadata": {},
   "outputs": [],
   "source": [
    "def init_MF(train, num_features):\n",
    "    \"\"\"init the parameter for matrix factorization.\n",
    "        return:\n",
    "            user_features: shape = num_features, num_user\n",
    "            item_features: shape = num_features, num_item\n",
    "    \"\"\"\n",
    "    num_item, num_user = train.get_shape()\n",
    "\n",
    "    user_features = np.random.rand(num_features, num_user)\n",
    "    item_features = np.random.rand(num_features, num_item)\n",
    "\n",
    "    # start by item features.\n",
    "    item_nnz = train.getnnz(axis=1) \n",
    "    item_sum = train.sum(axis=1)\n",
    "\n",
    "    for ind in range(num_item):\n",
    "        item_features[0, ind] = item_sum[ind, 0] / item_nnz[ind]\n",
    "    # j'ai testé avec/sans dans le corrigé du prof(K,iter=20) et il y avait une diminution de 0.0015 de la rmse avec --> utile?\n",
    "    \n",
    "    return user_features, item_features"
   ]
  },
  {
   "cell_type": "markdown",
   "metadata": {},
   "source": [
    "#### Compute the cost by the method of matrix factorization"
   ]
  },
  {
   "cell_type": "code",
   "execution_count": 8,
   "metadata": {},
   "outputs": [],
   "source": [
    "def compute_error(data, user_features, item_features, nz):\n",
    "    \"\"\"compute the loss (MSE) of the prediction of nonzero elements.\"\"\"\n",
    "    mse = 0\n",
    "    for row, col in nz:\n",
    "        item_info = item_features[:, row]\n",
    "        user_info = user_features[:, col]\n",
    "        mse += (data[row, col] - user_info.T.dot(item_info)) ** 2 \n",
    "    return np.sqrt(1.0 * mse / len(nz))"
   ]
  },
  {
   "cell_type": "markdown",
   "metadata": {},
   "source": [
    "#### Stochastic gradient descent"
   ]
  },
  {
   "cell_type": "code",
   "execution_count": null,
   "metadata": {},
   "outputs": [
    {
     "name": "stdout",
     "output_type": "stream",
     "text": [
      "learn the matrix factorization using SGD...\n",
      "iter: 0, RMSE on training set: 1.1076376466493267.\n",
      "iter: 1, RMSE on training set: 1.067295451548539.\n",
      "iter: 2, RMSE on training set: 1.0471115016859323.\n",
      "iter: 3, RMSE on training set: 1.0231569873296709.\n",
      "iter: 4, RMSE on training set: 1.0034574580337678.\n",
      "iter: 5, RMSE on training set: 0.9961413860073064.\n",
      "iter: 6, RMSE on training set: 0.9786643931127321.\n",
      "iter: 7, RMSE on training set: 0.9732879240845084.\n",
      "iter: 8, RMSE on training set: 0.9678526065063058.\n"
     ]
    }
   ],
   "source": [
    "def matrix_factorization_SGD(train, test):\n",
    "    \"\"\"matrix factorization by SGD.\"\"\"\n",
    "    # define parameters   \n",
    "    gamma = 0.06\n",
    "    num_features = 20   # K in the lecture notes\n",
    "    lambda_user = 0.08\n",
    "    lambda_item = 0.1\n",
    "    num_epochs = 30\n",
    "    errors = [0]\n",
    "    \n",
    "    #gamma = 0.075\n",
    "    #num_features = 10   # K in the lecture notes\n",
    "    #lambda_user = 0.1\n",
    "    #lambda_item = 0.7\n",
    "    #num_epochs = 20\n",
    "    \n",
    "    # set seed\n",
    "    np.random.seed(988)\n",
    "\n",
    "    # init matrix\n",
    "    user_features, item_features = init_MF(train, num_features)\n",
    "    \n",
    "    # find the non-zero ratings indices \n",
    "    nz_row, nz_col = train.nonzero()\n",
    "    nz_train = list(zip(nz_row, nz_col)) #when you zip() together two lists containing 20 elements each, the result has 20 elements. Each element is a pair.\n",
    "    nz_row, nz_col = test.nonzero()\n",
    "    nz_test = list(zip(nz_row, nz_col))\n",
    "\n",
    "    print(\"learn the matrix factorization using SGD...\")\n",
    "    for it in range(num_epochs):        \n",
    "        # shuffle the training rating indices\n",
    "        np.random.shuffle(nz_train) #changes the position of items in a list\n",
    "        \n",
    "        # decrease step size\n",
    "        gamma /= 1.2\n",
    "        \n",
    "        for d, n in nz_train:\n",
    "            # select W_d and Z_n\n",
    "            item_info = item_features[:, d]\n",
    "            user_info = user_features[:, n]\n",
    "            \n",
    "            #calculate the prediction error\n",
    "            err = train[d, n] - user_info.T.dot(item_info)\n",
    "    \n",
    "            # calculate the gradient and update\n",
    "            item_features[:, d] += gamma * (err * user_info - lambda_item * item_info)\n",
    "            user_features[:, n] += gamma * (err * item_info - lambda_user * user_info)\n",
    "\n",
    "        rmse = compute_error(train, user_features, item_features, nz_train)\n",
    "        print(\"iter: {}, RMSE on training set: {}.\".format(it, rmse))\n",
    "        \n",
    "        errors.append(rmse)\n",
    "        \n",
    "    # evaluate the test error\n",
    "    rmse = compute_error(test, user_features, item_features, nz_test)\n",
    "    print(\"RMSE on test data: {}.\".format(rmse))\n",
    "    \n",
    "    return item_features, user_features\n",
    "\n",
    "item_features, user_features = matrix_factorization_SGD(train, test)"
   ]
  },
  {
   "cell_type": "markdown",
   "metadata": {},
   "source": [
    "#### Prediction"
   ]
  },
  {
   "cell_type": "code",
   "execution_count": 22,
   "metadata": {},
   "outputs": [
    {
     "ename": "ValueError",
     "evalue": "cannot convert float NaN to integer",
     "output_type": "error",
     "traceback": [
      "\u001b[1;31m---------------------------------------------------------------------------\u001b[0m",
      "\u001b[1;31mValueError\u001b[0m                                Traceback (most recent call last)",
      "\u001b[1;32m<ipython-input-22-ca123b6c8672>\u001b[0m in \u001b[0;36m<module>\u001b[1;34m\u001b[0m\n\u001b[0;32m      4\u001b[0m     \u001b[0mitem\u001b[0m \u001b[1;33m=\u001b[0m \u001b[0mids\u001b[0m\u001b[1;33m[\u001b[0m\u001b[1;36m0\u001b[0m\u001b[1;33m]\u001b[0m\u001b[1;33m[\u001b[0m\u001b[0mi\u001b[0m\u001b[1;33m]\u001b[0m\u001b[1;33m\u001b[0m\u001b[1;33m\u001b[0m\u001b[0m\n\u001b[0;32m      5\u001b[0m     \u001b[0muser\u001b[0m \u001b[1;33m=\u001b[0m \u001b[0mids\u001b[0m\u001b[1;33m[\u001b[0m\u001b[1;36m1\u001b[0m\u001b[1;33m]\u001b[0m\u001b[1;33m[\u001b[0m\u001b[0mi\u001b[0m\u001b[1;33m]\u001b[0m\u001b[1;33m\u001b[0m\u001b[1;33m\u001b[0m\u001b[0m\n\u001b[1;32m----> 6\u001b[1;33m     \u001b[0mrating\u001b[0m \u001b[1;33m=\u001b[0m \u001b[0mint\u001b[0m\u001b[1;33m(\u001b[0m\u001b[0mround\u001b[0m\u001b[1;33m(\u001b[0m\u001b[0mnp\u001b[0m\u001b[1;33m.\u001b[0m\u001b[0mdot\u001b[0m\u001b[1;33m(\u001b[0m\u001b[0mitem_features\u001b[0m\u001b[1;33m[\u001b[0m\u001b[1;33m:\u001b[0m\u001b[1;33m,\u001b[0m \u001b[0mitem\u001b[0m\u001b[1;33m-\u001b[0m\u001b[1;36m1\u001b[0m\u001b[1;33m]\u001b[0m\u001b[1;33m,\u001b[0m \u001b[0muser_features\u001b[0m\u001b[1;33m[\u001b[0m\u001b[1;33m:\u001b[0m\u001b[1;33m,\u001b[0m \u001b[0muser\u001b[0m\u001b[1;33m-\u001b[0m\u001b[1;36m1\u001b[0m\u001b[1;33m]\u001b[0m\u001b[1;33m)\u001b[0m\u001b[1;33m)\u001b[0m\u001b[1;33m)\u001b[0m\u001b[1;33m\u001b[0m\u001b[1;33m\u001b[0m\u001b[0m\n\u001b[0m\u001b[0;32m      7\u001b[0m     \u001b[0mpredictions\u001b[0m\u001b[1;33m.\u001b[0m\u001b[0mappend\u001b[0m\u001b[1;33m(\u001b[0m\u001b[0mrating\u001b[0m\u001b[1;33m)\u001b[0m\u001b[1;33m\u001b[0m\u001b[1;33m\u001b[0m\u001b[0m\n\u001b[0;32m      8\u001b[0m \u001b[1;33m\u001b[0m\u001b[0m\n",
      "\u001b[1;31mValueError\u001b[0m: cannot convert float NaN to integer"
     ]
    }
   ],
   "source": [
    "predictions = []\n",
    "\n",
    "for i in range(len(ids[0])):\n",
    "    user = ids[0][i]\n",
    "    item = ids[1][i]\n",
    "    rating = int(round(np.dot(item_features[:, item-1], user_features[:, user-1])))\n",
    "    predictions.append(rating)"
   ]
  },
  {
   "cell_type": "markdown",
   "metadata": {},
   "source": [
    "### Save output for submission"
   ]
  },
  {
   "cell_type": "code",
   "execution_count": 4,
   "metadata": {
    "scrolled": true
   },
   "outputs": [
    {
     "ename": "SyntaxError",
     "evalue": "invalid syntax (<ipython-input-4-b53775eec35b>, line 3)",
     "output_type": "error",
     "traceback": [
      "\u001b[1;36m  File \u001b[1;32m\"<ipython-input-4-b53775eec35b>\"\u001b[1;36m, line \u001b[1;32m3\u001b[0m\n\u001b[1;33m    create_csv_submission(ids_test, , OUTPUT_PATH)\u001b[0m\n\u001b[1;37m                                    ^\u001b[0m\n\u001b[1;31mSyntaxError\u001b[0m\u001b[1;31m:\u001b[0m invalid syntax\n"
     ]
    }
   ],
   "source": [
    "from data_helpers import create_csv_submission\n",
    "\n",
    "OUTPUT_PATH = \"../data/submission.csv\"\n",
    "create_csv_submission(ids, predictions, OUTPUT_PATH)\n",
    "print(\"File submission.csv ready to be submitted !\")"
   ]
  }
 ],
 "metadata": {
  "kernelspec": {
   "display_name": "Python 3",
   "language": "python",
   "name": "python3"
  },
  "language_info": {
   "codemirror_mode": {
    "name": "ipython",
    "version": 3
   },
   "file_extension": ".py",
   "mimetype": "text/x-python",
   "name": "python",
   "nbconvert