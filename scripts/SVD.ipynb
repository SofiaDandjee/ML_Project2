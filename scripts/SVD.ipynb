{
 "cells": [
  {
   "cell_type": "code",
   "execution_count": 3,
   "metadata": {},
   "outputs": [
    {
     "name": "stdout",
     "output_type": "stream",
     "text": [
      "The autoreload extension is already loaded. To reload it, use:\n",
      "  %reload_ext autoreload\n"
     ]
    }
   ],
   "source": [
    "%matplotlib inline\n",
    "import numpy as np\n",
    "import scipy\n",
    "import scipy.io\n",
    "import scipy.sparse as sp\n",
    "import matplotlib.pyplot as plt\n",
    "import surprise\n",
    "%load_ext autoreload\n",
    "%autoreload 2"
   ]
  },
  {
   "cell_type": "markdown",
   "metadata": {},
   "source": [
    "### Ratings that have to be predicted (items and users specified in sample_submission file)"
   ]
  },
  {
   "cell_type": "code",
   "execution_count": 4,
   "metadata": {},
   "outputs": [],
   "source": [
    "from data_helpers import read_csv_sample\n",
    "\n",
    "INPUT_PATH = \"../data/sample_submission.csv\"\n",
    "ids = read_csv_sample(INPUT_PATH)"
   ]
  },
  {
   "cell_type": "markdown",
   "metadata": {},
   "source": [
    "# SVD"
   ]
  },
  {
   "cell_type": "code",
   "execution_count": 4,
   "metadata": {},
   "outputs": [
    {
     "name": "stdout",
     "output_type": "stream",
     "text": [
      "SVD\n",
      "1.0062896339298097\n",
      "{'n_epochs': 10, 'lr_all': 0.0015, 'reg_all': 0.05, 'n_factors': 40, 'random_state': 30}\n"
     ]
    }
   ],
   "source": [
    "from surprise.model_selection import GridSearchCV\n",
    "from surprise import SVD\n",
    "from surprise import Dataset\n",
    "from surprise import Reader\n",
    "\n",
    "\n",
    "# path to dataset file\n",
    "file_path = \"../data/data_surprise.csv\"\n",
    "reader = Reader(line_format='user item rating', sep=',', skip_lines=1)\n",
    "data = Dataset.load_from_file(file_path, reader=reader)\n",
    "\n",
    "print('SVD')\n",
    "param_grid = {'n_epochs': [100], 'lr_all': [0.0015],\n",
    "              'reg_all': [0.05] , 'n_factors' : [40] , 'random_state' : [30]}\n",
    "\n",
    "\n",
    "                              \n",
    "gs = GridSearchCV(SVD, param_grid, measures=['rmse', 'mae'], cv=2)\n",
    "gs.fit(data)\n",
    "\n",
    "# best RMSE score\n",
    "print(gs.best_score['rmse'])\n",
    "\n",
    "# combination of parameters that gave the best RMSE score\n",
    "print(gs.best_params['rmse'])"
   ]
  },
  {
   "cell_type": "code",
   "execution_count": null,
   "metadata": {},
   "outputs": [],
   "source": [
    "#to test on the test set\n",
    "predictions = algo.test(testset)\n",
    "\n",
    "# Then compute RMSE\n",
    "accuracy.rmse(predictions)"
   ]
  },
  {
   "cell_type": "code",
   "execution_count": 7,
   "metadata": {},
   "outputs": [
    {
     "data": {
      "text/plain": [
       "<surprise.prediction_algorithms.matrix_factorization.SVD at 0x11387ec8>"
      ]
     },
     "execution_count": 7,
     "metadata": {},
     "output_type": "execute_result"
    }
   ],
   "source": [
    "from surprise import SVD\n",
    "from surprise import Dataset\n",
    "from surprise import Reader\n",
    "\n",
    "file_path = \"../data/data_surprise.csv\"\n",
    "reader = Reader(line_format='user item rating', sep=',', skip_lines=1)\n",
    "data = Dataset.load_from_file(file_path, reader=reader)\n",
    "trainset = data.build_full_trainset()\n",
    "\n",
    "algo = SVD(n_factors=100, n_epochs=40, lr_bu=0.01, lr_bi=0.01, lr_pu=0.1, lr_qi=0.1, reg_bu=0.05, reg_bi=0.05, reg_pu=0.09, reg_qi=0.1)\n",
    "algo.fit(trainset)"
   ]
  },
  {
   "cell_type": "code",
   "execution_count": 8,
   "metadata": {},
   "outputs": [
    {
     "name": "stdout",
     "output_type": "stream",
     "text": [
      "1176952\n"
     ]
    }
   ],
   "source": [
    "#to predict the ids\n",
    "predictions = []\n",
    "\n",
    "for i in range(len(ids[0])):\n",
    "    pred = algo.predict(str(ids[0][i]), str(ids[1][i]))\n",
    "    predictions.append(round(pred.est))\n",
    "    \n",
    "print(len(predictions))"
   ]
  },
  {
   "cell_type": "markdown",
   "metadata": {},
   "source": [
    "### Save output for submission"
   ]
  },
  {
   "cell_type": "code",
   "execution_count": 10,
   "metadata": {
    "scrolled": true
   },
   "outputs": [
    {
     "name": "stdout",
     "output_type": "stream",
     "text": [
      "File submission.csv ready to be submitted !\n"
     ]
    }
   ],
   "source": [
    "from data_helpers import create_csv_submission\n",
    "\n",
    "OUTPUT_PATH = \"../data/submissionSVD.csv\"\n",
    "create_csv_submission(ids, predictions, OUTPUT_PATH)\n",
    "print(\"File submission.csv ready to be submitted !\")"
   ]
  },
  {
   "cell_type": "code",
   "execution_count": null,
   "metadata": {},
   "outputs": [],
   "source": []
  }
 ],
 "metadata": {
  "kernelspec": {
   "display_name": "Python 3",
   "language": "python",
   "name": "python3"
  },
  "language_info": {
   "codemirror_mode": {
    "name": "ipython",
    "version": 3
   },
   "file_extension": ".py",
   "mimetype": "text/x-python",
   "name": "python",
   "nbconvert_exporter": "python",
   "pygments_lexer": "ipython3",
   "version": "3.7.4"
  }
 },
 "nbformat": 4,
 "nbformat_minor": 2
}
