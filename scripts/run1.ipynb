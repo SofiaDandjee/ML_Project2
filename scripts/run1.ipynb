{
 "cells": [
  {
   "cell_type": "code",
   "execution_count": 1,
   "metadata": {},
   "outputs": [],
   "source": [
    "import numpy as np\n",
    "import scipy\n",
    "import scipy.io\n",
    "import scipy.sparse as sp\n",
    "import surprise\n",
    "%load_ext autoreload"
   ]
  },
  {
   "cell_type": "code",
   "execution_count": 2,
   "metadata": {},
   "outputs": [],
   "source": [
    "from data_helpers import *\n",
    "\n",
    "#Load train and testset for the surprise models\n",
    "file_path = \"../data/data_surprise.csv\"\n",
    "trainset, testset = build_surprise_data(file_path)\n",
    "\n",
    "#Loads ratings to predict\n",
    "INPUT_PATH = \"../data/sample_submission.csv\"\n",
    "ids = read_csv_sample(INPUT_PATH)"
   ]
  },
  {
   "cell_type": "code",
   "execution_count": 3,
   "metadata": {},
   "outputs": [],
   "source": [
    "from implementations import *"
   ]
  },
  {
   "cell_type": "code",
   "execution_count": null,
   "metadata": {},
   "outputs": [
    {
     "name": "stdout",
     "output_type": "stream",
     "text": [
      "Baseline Only\n",
      "   Training RMSE:  0.9892005650964464\n",
      "   Test RMSE:  1.0001597472752757\n",
      "kNN Baseline Movie\n"
     ]
    }
   ],
   "source": [
    "Xtest = []\n",
    "Xids = []\n",
    "\n",
    "#Generate predictions with every method\n",
    "rmse, Xtest, Xids = baseline_only(trainset, testset, ids, Xtest, Xids)\n",
    "rmse, Xtest, Xids = knn_baseline_movie(trainset, testset, ids, Xtest, Xids)\n",
    "rmse, Xtest, Xids = knn_baseline_user(trainset, testset, ids, Xtest, Xids)\n",
    "rmse, Xtest, Xids = svd(trainset, testset, ids, Xtest, Xids)\n",
    "rmse, Xtest, Xids = slopeone(trainset, testset, ids, Xtest, Xids)\n",
    "rmse, Xtest, Xids = co_clustering(trainset, testset, ids, Xtest, Xids)"
   ]
  },
  {
   "cell_type": "code",
   "execution_count": null,
   "metadata": {},
   "outputs": [],
   "source": [
    "def blend(preds_test, preds_ids, testset):\n",
    "    \"\"\"\n",
    "    Linear regression that finds the optimal weights of each model\n",
    "    Argument : preds_test, predicted ratings for the known test set\n",
    "               preds_ids, predicted ratings for the unknown set\n",
    "               testset, the testset\n",
    "    Return : estimations, the final predictions\n",
    "             weights, coefficients associated to each model\n",
    "    \"\"\"\n",
    "    print('Blending')\n",
    "    \n",
    "    #Known ratings of testset\n",
    "    y_test = [rating for (_,_,rating) in testset]\n",
    "    \n",
    "    #Ridge Regression\n",
    "    linreg = Ridge(alpha=0.1, fit_intercept=True)\n",
    "    \n",
    "    #Fit between predicted and know ratings of testset\n",
    "    linreg.fit(preds_test.T, y_test)\n",
    "    weights = linreg.coef_\n",
    "    \n",
    "    #Predict unknown ratings\n",
    "    predictions = np.clip(linreg.predict(preds_ids.T), 1, 5)\n",
    "    \n",
    "    print(weights, end='\\n\\n')\n",
    "    \n",
    "    #RMSE of regression\n",
    "    print('Test RMSE: %f' % calculate_rmse(y_test, linreg.predict(preds_test.T)))\n",
    "    \n",
    "    #Rounding-off predictions\n",
    "    estimations = np.zeros(len(predictions))\n",
    "    for j, pred in enumerate(predictions):\n",
    "        estimations[j] = round(pred)\n",
    "        \n",
    "    return estimations, weights"
   ]
  },
  {
   "cell_type": "code",
   "execution_count": null,
   "metadata": {},
   "outputs": [],
   "source": [
    "#Blending\n",
    "predictions, weights = blend(np.matrix(Xtest), np.matrix(Xids), testset)"
   ]
  },
  {
   "cell_type": "code",
   "execution_count": null,
   "metadata": {},
   "outputs": [],
   "source": [
    "len(predictions)"
   ]
  },
  {
   "cell_type": "code",
   "execution_count": null,
   "metadata": {},
   "outputs": [],
   "source": [
    "from data_helpers import create_csv_submission\n",
    "\n",
    "OUTPUT_PATH = \"../data/submission.csv\"\n",
    "create_csv_submission(ids, predictions, OUTPUT_PATH)\n",
    "print(\"File submission.csv ready to be submitted !\")"
   ]
  },
  {
   "cell_type": "code",
   "execution_count": null,
   "metadata": {},
   "outputs": [],
   "source": []
  }
 ],
 "metadata": {
  "kernelspec": {
   "display_name": "Python 3",
   "language": "python",
   "name": "python3"
  },
  "language_info": {
   "codemirror_mode": {
    "name": "ipython",
    "version": 3
   },
   "file_extension": ".py",
   "mimetype": "text/x-python",
   "name": "python",
   "nbconvert_exporter": "python",
   "pygments_lexer": "ipython3",
   "version": "3.6.9"
  }
 },
 "nbformat": 4,
 "nbformat_minor": 2
}
