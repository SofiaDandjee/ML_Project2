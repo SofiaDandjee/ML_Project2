{
 "cells": [
  {
   "cell_type": "code",
   "execution_count": 16,
   "metadata": {},
   "outputs": [
    {
     "name": "stdout",
     "output_type": "stream",
     "text": [
      "The autoreload extension is already loaded. To reload it, use:\n",
      "  %reload_ext autoreload\n"
     ]
    }
   ],
   "source": [
    "import numpy as np\n",
    "import surprise\n",
    "%load_ext autoreload"
   ]
  },
  {
   "cell_type": "code",
   "execution_count": 17,
   "metadata": {},
   "outputs": [],
   "source": [
    "from data_helpers import *\n",
    "\n",
    "#Load train and testset for the surprise models\n",
    "file_path = \"../data/data_surprise.csv\"\n",
    "trainset, testset = build_surprise_data(file_path)\n",
    "\n",
    "#Loads ratings to predict\n",
    "INPUT_PATH = \"../data/sample_submission.csv\"\n",
    "ids = read_csv_sample(INPUT_PATH)"
   ]
  },
  {
   "cell_type": "code",
   "execution_count": 18,
   "metadata": {},
   "outputs": [
    {
     "name": "stdout",
     "output_type": "stream",
     "text": [
      "number of items: 10000, number of users: 1000\n"
     ]
    }
   ],
   "source": [
    "#Load train and testset for the custom models\n",
    "#train, test = split_data(load_data(\"../data/data_train.csv\"), p_test = 0.1)"
   ]
  },
  {
   "cell_type": "code",
   "execution_count": 19,
   "metadata": {},
   "outputs": [],
   "source": [
    "from implementations import *"
   ]
  },
  {
   "cell_type": "code",
   "execution_count": 20,
   "metadata": {},
   "outputs": [
    {
     "name": "stdout",
     "output_type": "stream",
     "text": [
      "kNN Baseline Movie\n",
      "   Training RMSE:  0.6241475383015472\n",
      "   Test RMSE:  0.9908785231084433\n",
      "kNN Baseline User\n",
      "   Training RMSE:  0.6641531098089988\n",
      "   Test RMSE:  0.9947164198559775\n",
      "SVD\n",
      "   Training RMSE:  0.9543999695353427\n",
      "   Test RMSE:  1.0019284327486202\n"
     ]
    }
   ],
   "source": [
    "Xtest = []\n",
    "Xids = []\n",
    "\n",
    "#kNN Baseline Movie\n",
    "rmse, Xtest, Xids, preds_test, predictions = knn_baseline_movie(trainset, testset, ids, Xtest, Xids)"
   ]
  },
  {
   "cell_type": "code",
   "execution_count": 37,
   "metadata": {},
   "outputs": [
    {
     "name": "stdout",
     "output_type": "stream",
     "text": [
      "File submission.csv ready to be submitted !\n"
     ]
    }
   ],
   "source": [
    "from data_helpers import create_csv_submission\n",
    "\n",
    "OUTPUT_PATH = \"../data/submission.csv\"\n",
    "create_csv_submission(ids, predictions, OUTPUT_PATH)\n",
    "print(\"File submission.csv ready to be submitted !\")"
   ]
  }
 ],
 "metadata": {
  "kernelspec": {
   "display_name": "Python 3",
   "language": "python",
   "name": "python3"
  },
  "language_info": {
   "codemirror_mode": {
    "name": "ipython",
    "version": 3
   },
   "file_extension": ".py",
   "mimetype": "text/x-python",
   "name": "python",
   "nbconvert_exporter": "python",
   "pygments_lexer": "ipython3",
   "version": "3.6.9"
  }
 },
 "nbformat": 4,
 "nbformat_minor": 2
}
