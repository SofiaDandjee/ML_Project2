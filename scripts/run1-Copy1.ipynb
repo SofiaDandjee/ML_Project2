{
 "cells": [
  {
   "cell_type": "code",
   "execution_count": 16,
   "metadata": {},
   "outputs": [
    {
     "name": "stdout",
     "output_type": "stream",
     "text": [
      "The autoreload extension is already loaded. To reload it, use:\n",
      "  %reload_ext autoreload\n"
     ]
    }
   ],
   "source": [
    "import numpy as np\n",
    "import scipy\n",
    "import scipy.io\n",
    "import scipy.sparse as sp\n",
    "import surprise\n",
    "%load_ext autoreload"
   ]
  },
  {
   "cell_type": "code",
   "execution_count": 17,
   "metadata": {},
   "outputs": [],
   "source": [
    "from data_helpers import *\n",
    "\n",
    "#Load train and testset for the surprise models\n",
    "file_path = \"../data/data_surprise.csv\"\n",
    "trainset, testset = build_surprise_data(file_path)\n",
    "\n",
    "#Loads ratings to predict\n",
    "INPUT_PATH = \"../data/sample_submission.csv\"\n",
    "ids = read_csv_sample(INPUT_PATH)"
   ]
  },
  {
   "cell_type": "code",
   "execution_count": 18,
   "metadata": {},
   "outputs": [
    {
     "name": "stdout",
     "output_type": "stream",
     "text": [
      "number of items: 10000, number of users: 1000\n"
     ]
    }
   ],
   "source": [
    "#Load train and testset for the custom models\n",
    "train, test = split_data(load_data(\"../data/data_train.csv\"), p_test = 0.1)"
   ]
  },
  {
   "cell_type": "code",
   "execution_count": 19,
   "metadata": {},
   "outputs": [],
   "source": [
    "from implementations import *"
   ]
  },
  {
   "cell_type": "code",
   "execution_count": 20,
   "metadata": {},
   "outputs": [
    {
     "name": "stdout",
     "output_type": "stream",
     "text": [
      "kNN Baseline Movie\n",
      "   Training RMSE:  0.6241475383015472\n",
      "   Test RMSE:  0.9908785231084433\n",
      "kNN Baseline User\n",
      "   Training RMSE:  0.6641531098089988\n",
      "   Test RMSE:  0.9947164198559775\n",
      "SVD\n",
      "   Training RMSE:  0.9543999695353427\n",
      "   Test RMSE:  1.0019284327486202\n"
     ]
    }
   ],
   "source": [
    "Xtest = []\n",
    "Xids = []\n",
    "\n",
    "#Generate predictions with every method\n",
    "rmse, Xtest, Xids, preds_test_kbm, preds_ids_kbm = knn_baseline_movie(trainset, testset, ids, Xtest, Xids)\n",
    "rmse, Xtest, Xids, preds_test_kbu, preds_ids_kbu = knn_baseline_user(trainset, testset, ids, Xtest, Xids)\n",
    "rmse, Xtest, Xids, preds_test_svd, preds_ids_svd = svd(trainset, testset, ids, Xtest, Xids)"
   ]
  },
  {
   "cell_type": "code",
   "execution_count": null,
   "metadata": {},
   "outputs": [
    {
     "name": "stdout",
     "output_type": "stream",
     "text": [
      "start the ALS algorithm...\n",
      "Train RMSE: 1.0761126862706574.\n",
      "Train RMSE: 1.0339536582817281.\n",
      "Train RMSE: 0.9964605772976493.\n",
      "Train RMSE: 0.9671936482485406.\n",
      "Train RMSE: 0.9483643759850089.\n",
      "Train RMSE: 0.9366811926862457.\n",
      "Train RMSE: 0.929188904791845.\n",
      "Train RMSE: 0.9240717258734906.\n",
      "Train RMSE: 0.9203721251135677.\n",
      "Train RMSE: 0.9175826671586643.\n",
      "Train RMSE: 0.9154155235907868.\n",
      "Train RMSE: 0.9136943140543229.\n",
      "Train RMSE: 0.9123037032959387.\n",
      "Train RMSE: 0.9111644467269393.\n",
      "Train RMSE: 0.9102200630975742.\n",
      "Train RMSE: 0.9094291815786107.\n",
      "Train RMSE: 0.9087608572388718.\n"
     ]
    }
   ],
   "source": [
    "rmse, Xtest, Xids, preds_test_als, preds_ids_als = matrix_factorization_als(train, test, ids, Xtest, Xids)\n",
    "rmse, Xtest, Xids, preds_test_sgd, preds_ids_sgd = matrix_factorization_sgd(train, test, ids, Xtest, Xids)"
   ]
  },
  {
   "cell_type": "code",
   "execution_count": 1,
   "metadata": {},
   "outputs": [
    {
     "ename": "NameError",
     "evalue": "name 'np' is not defined",
     "output_type": "error",
     "traceback": [
      "\u001b[0;31m---------------------------------------------------------------------------\u001b[0m",
      "\u001b[0;31mNameError\u001b[0m                                 Traceback (most recent call last)",
      "\u001b[0;32m<ipython-input-1-c8e5a238b8d0>\u001b[0m in \u001b[0;36m<module>\u001b[0;34m\u001b[0m\n\u001b[0;32m----> 1\u001b[0;31m \u001b[0mnp\u001b[0m\u001b[0;34m.\u001b[0m\u001b[0marray\u001b[0m\u001b[0;34m(\u001b[0m\u001b[0mXtest\u001b[0m\u001b[0;34m)\u001b[0m \u001b[0;34m,\u001b[0m \u001b[0mnp\u001b[0m\u001b[0;34m.\u001b[0m\u001b[0marray\u001b[0m\u001b[0;34m(\u001b[0m\u001b[0mXids\u001b[0m\u001b[0;34m)\u001b[0m\u001b[0;34m\u001b[0m\u001b[0;34m\u001b[0m\u001b[0m\n\u001b[0m",
      "\u001b[0;31mNameError\u001b[0m: name 'np' is not defined"
     ]
    }
   ],
   "source": [
    "np.array(Xtest) , np.array(Xids)"
   ]
  },
  {
   "cell_type": "code",
   "execution_count": 54,
   "metadata": {},
   "outputs": [],
   "source": [
    "from sklearn.linear_model import LinearRegression\n",
    "def blend(preds_test, preds_ids, testset):\n",
    "    \"\"\"\n",
    "    Linear regression that finds the optimal weights of each model\n",
    "    Argument : preds_test, predicted ratings for the known test set\n",
    "               preds_ids, predicted ratings for the unknown set\n",
    "               testset, the testset\n",
    "    Return : estimations, the final predictions\n",
    "             weights, coefficients associated to each model\n",
    "    \"\"\"\n",
    "    print('Blending')\n",
    "    \n",
    "    #Known ratings of testset\n",
    "    y_test = [rating for (_,_,rating) in testset]\n",
    "    \n",
    "    #Ridge Regression\n",
    "    linreg = Ridge(alpha=0.0, normalize=True)\n",
    "    \n",
    "    #Fit between predicted and know ratings of testset\n",
    "    linreg.fit(preds_test.T, y_test)\n",
    "    weights = linreg.coef_\n",
    "    \n",
    "    #Predict unknown ratings\n",
    "    predictions = np.clip(linreg.predict(preds_ids.T), 1, 5)\n",
    "    \n",
    "    print(weights, end='\\n\\n')\n",
    "    \n",
    "    #RMSE of regression\n",
    "    print('Test RMSE: %f' % calculate_rmse(y_test, linreg.predict(preds_test.T)))\n",
    "    \n",
    "    #Rounding-off predictions\n",
    "    estimations = np.zeros(len(predictions))\n",
    "    for j, pred in enumerate(predictions):\n",
    "        estimations[j] = round(pred)\n",
    "        \n",
    "    return estimations, weights"
   ]
  },
  {
   "cell_type": "code",
   "execution_count": 55,
   "metadata": {},
   "outputs": [
    {
     "name": "stdout",
     "output_type": "stream",
     "text": [
      "Blending\n",
      "[-1.8606002   0.50975616  0.99641749 -0.63334515  1.14645031  0.74535184\n",
      " -0.12279898  0.26282306  0.00458331]\n",
      "\n",
      "Test RMSE: 0.986415\n"
     ]
    }
   ],
   "source": [
    "#Blending\n",
    "predictions, weights = blend(np.array(Xtest), np.array(Xids), testset)"
   ]
  },
  {
   "cell_type": "code",
   "execution_count": 36,
   "metadata": {},
   "outputs": [
    {
     "data": {
      "text/plain": [
       "1176952"
      ]
     },
     "execution_count": 36,
     "metadata": {},
     "output_type": "execute_result"
    }
   ],
   "source": [
    "len(predictions)"
   ]
  },
  {
   "cell_type": "code",
   "execution_count": 37,
   "metadata": {},
   "outputs": [
    {
     "name": "stdout",
     "output_type": "stream",
     "text": [
      "File submission.csv ready to be submitted !\n"
     ]
    }
   ],
   "source": [
    "from data_helpers import create_csv_submission\n",
    "\n",
    "OUTPUT_PATH = \"../data/submission.csv\"\n",
    "create_csv_submission(ids, predictions, OUTPUT_PATH)\n",
    "print(\"File submission.csv ready to be submitted !\")"
   ]
  },
  {
   "cell_type": "code",
   "execution_count": null,
   "metadata": {},
   "outputs": [],
   "source": []
  }
 ],
 "metadata": {
  "kernelspec": {
   "display_name": "Python 3",
   "language": "python",
   "name": "python3"
  },
  "language_info": {
   "codemirror_mode": {
    "name": "ipython",
    "version": 3
   },
   "file_extension": ".py",
   "mimetype": "text/x-python",
   "name": "python",
   "nbconvert_exporter": "python",
   "pygments_lexer": "ipython3",
   "version": "3.6.9"
  }
 },
 "nbformat": 4,
 "nbformat_minor": 2
}
